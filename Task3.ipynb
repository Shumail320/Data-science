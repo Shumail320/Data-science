{
 "cells": [
  {
   "cell_type": "raw",
   "id": "db7b9050-448c-425a-af9e-2c4496d92944",
   "metadata": {},
   "source": [
    "Task 3: Personal Loan Acceptance Prediction "
   ]
  },
  {
   "cell_type": "raw",
   "id": "4a57bf24-356c-47e5-946b-eaf59923361e",
   "metadata": {},
   "source": [
    "Introduction:"
   ]
  },
  {
   "cell_type": "raw",
   "id": "4d4d9b60-d395-40de-a4c1-50e1b2b3e712",
   "metadata": {},
   "source": [
    "Problem Statement:"
   ]
  },
  {
   "cell_type": "code",
   "execution_count": 2,
   "id": "17f059a8-37e3-4dd6-8bcf-dee90b5e6f31",
   "metadata": {},
   "outputs": [],
   "source": [
    "#Load the dataset\n",
    "import pandas as pd\n",
    "df = pd.read_csv(\"D:/New folder/bank-full.csv\", sep=';')"
   ]
  },
  {
   "cell_type": "raw",
   "id": "bdca5ad4-3486-4c64-a3cd-42635271e200",
   "metadata": {},
   "source": [
    "Dataset Structure:"
   ]
  },
  {
   "cell_type": "code",
   "execution_count": 3,
   "id": "eb818a06-32cf-484c-ae0e-81238a20e896",
   "metadata": {},
   "outputs": [
    {
     "name": "stdout",
     "output_type": "stream",
     "text": [
      "(45211, 17)\n"
     ]
    }
   ],
   "source": [
    "#Shape of the dataset (rows, columns)\n",
    "print(df.shape)"
   ]
  },
  {
   "cell_type": "code",
   "execution_count": 4,
   "id": "eacb18d2-7922-4d9e-bc27-21186381910e",
   "metadata": {},
   "outputs": [
    {
     "name": "stdout",
     "output_type": "stream",
     "text": [
      "\n",
      "Columns:\n",
      " ['age', 'job', 'marital', 'education', 'default', 'balance', 'housing', 'loan', 'contact', 'day', 'month', 'duration', 'campaign', 'pdays', 'previous', 'poutcome', 'loan acception']\n"
     ]
    }
   ],
   "source": [
    "#Columns names\n",
    "print(\"\\nColumns:\\n\", df.columns.tolist())"
   ]
  },
  {
   "cell_type": "code",
   "execution_count": 5,
   "id": "6409b34c-9889-4d5d-9700-2afd18e72466",
   "metadata": {},
   "outputs": [
    {
     "data": {
      "text/html": [
       "<div>\n",
       "<style scoped>\n",
       "    .dataframe tbody tr th:only-of-type {\n",
       "        vertical-align: middle;\n",
       "    }\n",
       "\n",
       "    .dataframe tbody tr th {\n",
       "        vertical-align: top;\n",
       "    }\n",
       "\n",
       "    .dataframe thead th {\n",
       "        text-align: right;\n",
       "    }\n",
       "</style>\n",
       "<table border=\"1\" class=\"dataframe\">\n",
       "  <thead>\n",
       "    <tr style=\"text-align: right;\">\n",
       "      <th></th>\n",
       "      <th>age</th>\n",
       "      <th>job</th>\n",
       "      <th>marital</th>\n",
       "      <th>education</th>\n",
       "      <th>default</th>\n",
       "      <th>balance</th>\n",
       "      <th>housing</th>\n",
       "      <th>loan</th>\n",
       "      <th>contact</th>\n",
       "      <th>day</th>\n",
       "      <th>month</th>\n",
       "      <th>duration</th>\n",
       "      <th>campaign</th>\n",
       "      <th>pdays</th>\n",
       "      <th>previous</th>\n",
       "      <th>poutcome</th>\n",
       "      <th>loan acception</th>\n",
       "    </tr>\n",
       "  </thead>\n",
       "  <tbody>\n",
       "    <tr>\n",
       "      <th>0</th>\n",
       "      <td>58</td>\n",
       "      <td>management</td>\n",
       "      <td>married</td>\n",
       "      <td>tertiary</td>\n",
       "      <td>no</td>\n",
       "      <td>2143</td>\n",
       "      <td>yes</td>\n",
       "      <td>no</td>\n",
       "      <td>unknown</td>\n",
       "      <td>5</td>\n",
       "      <td>may</td>\n",
       "      <td>261</td>\n",
       "      <td>1</td>\n",
       "      <td>-1</td>\n",
       "      <td>0</td>\n",
       "      <td>unknown</td>\n",
       "      <td>no</td>\n",
       "    </tr>\n",
       "    <tr>\n",
       "      <th>1</th>\n",
       "      <td>44</td>\n",
       "      <td>technician</td>\n",
       "      <td>single</td>\n",
       "      <td>secondary</td>\n",
       "      <td>no</td>\n",
       "      <td>29</td>\n",
       "      <td>yes</td>\n",
       "      <td>no</td>\n",
       "      <td>unknown</td>\n",
       "      <td>5</td>\n",
       "      <td>may</td>\n",
       "      <td>151</td>\n",
       "      <td>1</td>\n",
       "      <td>-1</td>\n",
       "      <td>0</td>\n",
       "      <td>unknown</td>\n",
       "      <td>no</td>\n",
       "    </tr>\n",
       "    <tr>\n",
       "      <th>2</th>\n",
       "      <td>33</td>\n",
       "      <td>entrepreneur</td>\n",
       "      <td>married</td>\n",
       "      <td>secondary</td>\n",
       "      <td>no</td>\n",
       "      <td>2</td>\n",
       "      <td>yes</td>\n",
       "      <td>yes</td>\n",
       "      <td>unknown</td>\n",
       "      <td>5</td>\n",
       "      <td>may</td>\n",
       "      <td>76</td>\n",
       "      <td>1</td>\n",
       "      <td>-1</td>\n",
       "      <td>0</td>\n",
       "      <td>unknown</td>\n",
       "      <td>no</td>\n",
       "    </tr>\n",
       "    <tr>\n",
       "      <th>3</th>\n",
       "      <td>47</td>\n",
       "      <td>blue-collar</td>\n",
       "      <td>married</td>\n",
       "      <td>unknown</td>\n",
       "      <td>no</td>\n",
       "      <td>1506</td>\n",
       "      <td>yes</td>\n",
       "      <td>no</td>\n",
       "      <td>unknown</td>\n",
       "      <td>5</td>\n",
       "      <td>may</td>\n",
       "      <td>92</td>\n",
       "      <td>1</td>\n",
       "      <td>-1</td>\n",
       "      <td>0</td>\n",
       "      <td>unknown</td>\n",
       "      <td>no</td>\n",
       "    </tr>\n",
       "    <tr>\n",
       "      <th>4</th>\n",
       "      <td>33</td>\n",
       "      <td>unknown</td>\n",
       "      <td>single</td>\n",
       "      <td>unknown</td>\n",
       "      <td>no</td>\n",
       "      <td>1</td>\n",
       "      <td>no</td>\n",
       "      <td>no</td>\n",
       "      <td>unknown</td>\n",
       "      <td>5</td>\n",
       "      <td>may</td>\n",
       "      <td>198</td>\n",
       "      <td>1</td>\n",
       "      <td>-1</td>\n",
       "      <td>0</td>\n",
       "      <td>unknown</td>\n",
       "      <td>no</td>\n",
       "    </tr>\n",
       "  </tbody>\n",
       "</table>\n",
       "</div>"
      ],
      "text/plain": [
       "   age           job  marital  education default  balance housing loan  \\\n",
       "0   58    management  married   tertiary      no     2143     yes   no   \n",
       "1   44    technician   single  secondary      no       29     yes   no   \n",
       "2   33  entrepreneur  married  secondary      no        2     yes  yes   \n",
       "3   47   blue-collar  married    unknown      no     1506     yes   no   \n",
       "4   33       unknown   single    unknown      no        1      no   no   \n",
       "\n",
       "   contact  day month  duration  campaign  pdays  previous poutcome  \\\n",
       "0  unknown    5   may       261         1     -1         0  unknown   \n",
       "1  unknown    5   may       151         1     -1         0  unknown   \n",
       "2  unknown    5   may        76         1     -1         0  unknown   \n",
       "3  unknown    5   may        92         1     -1         0  unknown   \n",
       "4  unknown    5   may       198         1     -1         0  unknown   \n",
       "\n",
       "  loan acception  \n",
       "0             no  \n",
       "1             no  \n",
       "2             no  \n",
       "3             no  \n",
       "4             no  "
      ]
     },
     "execution_count": 5,
     "metadata": {},
     "output_type": "execute_result"
    }
   ],
   "source": [
    "#First 5 Rows\n",
    "df.head()"
   ]
  },
  {
   "cell_type": "raw",
   "id": "72a2c40c-24b9-46ab-8eda-ace9e83844ba",
   "metadata": {},
   "source": [
    "Check For Missing Values:"
   ]
  },
  {
   "cell_type": "code",
   "execution_count": 6,
   "id": "e7f42beb-6682-48cd-9db7-b26b728ec735",
   "metadata": {},
   "outputs": [
    {
     "name": "stdout",
     "output_type": "stream",
     "text": [
      "age               0\n",
      "job               0\n",
      "marital           0\n",
      "education         0\n",
      "default           0\n",
      "balance           0\n",
      "housing           0\n",
      "loan              0\n",
      "contact           0\n",
      "day               0\n",
      "month             0\n",
      "duration          0\n",
      "campaign          0\n",
      "pdays             0\n",
      "previous          0\n",
      "poutcome          0\n",
      "loan acception    0\n",
      "dtype: int64\n"
     ]
    }
   ],
   "source": [
    "# Check missing values\n",
    "print(df.isnull().sum())"
   ]
  },
  {
   "cell_type": "raw",
   "id": "087795d2-f162-43bf-90dd-7b5af0f55428",
   "metadata": {},
   "source": [
    "Basic Data Exploration:"
   ]
  },
  {
   "cell_type": "code",
   "execution_count": 7,
   "id": "9f1daf57-0f50-4337-8766-a01d87dffa9d",
   "metadata": {},
   "outputs": [
    {
     "name": "stdout",
     "output_type": "stream",
     "text": [
      "                age\n",
      "count  45211.000000\n",
      "mean      40.936210\n",
      "std       10.618762\n",
      "min       18.000000\n",
      "25%       33.000000\n",
      "50%       39.000000\n",
      "75%       48.000000\n",
      "max       95.000000\n"
     ]
    }
   ],
   "source": [
    "# Summary statistics\n",
    "print(df[['age']].describe())"
   ]
  },
  {
   "cell_type": "code",
   "execution_count": 8,
   "id": "e4193a55-cc91-4834-8760-5005586602de",
   "metadata": {},
   "outputs": [
    {
     "name": "stdout",
     "output_type": "stream",
     "text": [
      "job\n",
      "blue-collar      9732\n",
      "management       9458\n",
      "technician       7597\n",
      "admin.           5171\n",
      "services         4154\n",
      "retired          2264\n",
      "self-employed    1579\n",
      "entrepreneur     1487\n",
      "unemployed       1303\n",
      "housemaid        1240\n",
      "student           938\n",
      "unknown           288\n",
      "Name: count, dtype: int64\n"
     ]
    }
   ],
   "source": [
    "# Unique job\n",
    "print(df['job'].value_counts())"
   ]
  },
  {
   "cell_type": "code",
   "execution_count": 9,
   "id": "55299e3a-5ab8-4ac4-801a-b982b0cb2d97",
   "metadata": {},
   "outputs": [
    {
     "name": "stdout",
     "output_type": "stream",
     "text": [
      "marital\n",
      "married     27214\n",
      "single      12790\n",
      "divorced     5207\n",
      "Name: count, dtype: int64\n"
     ]
    }
   ],
   "source": [
    "#Unique Marital Status \n",
    "print(df['marital'].value_counts())"
   ]
  },
  {
   "cell_type": "code",
   "execution_count": 10,
   "id": "a35554b3-3ac1-44de-a0ec-22c609204cc2",
   "metadata": {},
   "outputs": [
    {
     "name": "stdout",
     "output_type": "stream",
     "text": [
      "loan acception\n",
      "no     39922\n",
      "yes     5289\n",
      "Name: count, dtype: int64\n"
     ]
    }
   ],
   "source": [
    "# Check target variable\n",
    "print(df['loan acception'].value_counts())"
   ]
  },
  {
   "cell_type": "raw",
   "id": "41829eed-5a5b-4db9-a215-de58f50d4de4",
   "metadata": {},
   "source": [
    "Visualization of Features:"
   ]
  },
  {
   "cell_type": "code",
   "execution_count": 11,
   "id": "09f66d6f-e0cd-43bb-abc4-1e8402646ccc",
   "metadata": {},
   "outputs": [],
   "source": [
    "import seaborn as sns\n",
    "import matplotlib.pyplot as plt"
   ]
  },
  {
   "cell_type": "code",
   "execution_count": 12,
   "id": "bfe18ad0-75b5-40f9-8f45-b2c99cc61a90",
   "metadata": {},
   "outputs": [],
   "source": [
    "# Histogram for Age distribution"
   ]
  },
  {
   "cell_type": "code",
   "execution_count": 13,
   "id": "739daf3b-ada1-46fc-8d30-75db472335a3",
   "metadata": {},
   "outputs": [
    {
     "data": {
      "image/png": "[encoded data removed]",
      "text/plain": [
       "<Figure size 640x480 with 1 Axes>"
      ]
     },
     "metadata": {},
     "output_type": "display_data"
    }
   ],
   "source": [
    "sns.histplot(df['age'], bins=20, kde=True)\n",
    "plt.title('Age Distribution')\n",
    "plt.show()"
   ]
  },
  {
   "cell_type": "code",
   "execution_count": 14,
   "id": "215b5063-305e-49ee-bf9f-f14507cf426e",
   "metadata": {},
   "outputs": [],
   "source": [
    "# Countplot for Job"
   ]
  },
  {
   "cell_type": "code",
   "execution_count": 15,
   "id": "4e58146d-47f9-48a5-a1bc-e80af135100e",
   "metadata": {},
   "outputs": [
    {
     "data": {
      "image/png": "[encoded data removed]",
      "text/plain": [
       "<Figure size 640x480 with 1 Axes>"
      ]
     },
     "metadata": {},
     "output_type": "display_data"
    }
   ],
   "source": [
    "sns.countplot(y='job', data=df, order=df['job'].value_counts().index)\n",
    "plt.title('Job Distribution')\n",
    "plt.show()\n"
   ]
  },
  {
   "cell_type": "code",
   "execution_count": 16,
   "id": "2b7903db-b2e1-4452-bd41-3861ce7aeda6",
   "metadata": {},
   "outputs": [
    {
     "data": {
      "image/png": "[encoded data removed]",
      "text/plain": [
       "<Figure size 640x480 with 1 Axes>"
      ]
     },
     "metadata": {},
     "output_type": "display_data"
    }
   ],
   "source": [
    "# Countplot for Marital Status\n",
    "sns.countplot(x='marital', data=df)\n",
    "plt.title('Marital Status Distribution')\n",
    "plt.show()"
   ]
  },
  {
   "cell_type": "raw",
   "id": "7c9f6259-cc4d-4a24-bfc4-c1c826804a20",
   "metadata": {},
   "source": [
    "Prepare data for training:"
   ]
  },
  {
   "cell_type": "code",
   "execution_count": 17,
   "id": "e2d4ee28-0ea7-4e35-876f-45f8efbb4bc4",
   "metadata": {},
   "outputs": [
    {
     "data": {
      "text/html": [
       "<div>\n",
       "<style scoped>\n",
       "    .dataframe tbody tr th:only-of-type {\n",
       "        vertical-align: middle;\n",
       "    }\n",
       "\n",
       "    .dataframe tbody tr th {\n",
       "        vertical-align: top;\n",
       "    }\n",
       "\n",
       "    .dataframe thead th {\n",
       "        text-align: right;\n",
       "    }\n",
       "</style>\n",
       "<table border=\"1\" class=\"dataframe\">\n",
       "  <thead>\n",
       "    <tr style=\"text-align: right;\">\n",
       "      <th></th>\n",
       "      <th>age</th>\n",
       "      <th>job_blue-collar</th>\n",
       "      <th>job_entrepreneur</th>\n",
       "      <th>job_housemaid</th>\n",
       "      <th>job_management</th>\n",
       "      <th>job_retired</th>\n",
       "      <th>job_self-employed</th>\n",
       "      <th>job_services</th>\n",
       "      <th>job_student</th>\n",
       "      <th>job_technician</th>\n",
       "      <th>job_unemployed</th>\n",
       "      <th>job_unknown</th>\n",
       "      <th>marital_married</th>\n",
       "      <th>marital_single</th>\n",
       "      <th>loan acception</th>\n",
       "    </tr>\n",
       "  </thead>\n",
       "  <tbody>\n",
       "    <tr>\n",
       "      <th>0</th>\n",
       "      <td>58</td>\n",
       "      <td>False</td>\n",
       "      <td>False</td>\n",
       "      <td>False</td>\n",
       "      <td>True</td>\n",
       "      <td>False</td>\n",
       "      <td>False</td>\n",
       "      <td>False</td>\n",
       "      <td>False</td>\n",
       "      <td>False</td>\n",
       "      <td>False</td>\n",
       "      <td>False</td>\n",
       "      <td>True</td>\n",
       "      <td>False</td>\n",
       "      <td>0</td>\n",
       "    </tr>\n",
       "    <tr>\n",
       "      <th>1</th>\n",
       "      <td>44</td>\n",
       "      <td>False</td>\n",
       "      <td>False</td>\n",
       "      <td>False</td>\n",
       "      <td>False</td>\n",
       "      <td>False</td>\n",
       "      <td>False</td>\n",
       "      <td>False</td>\n",
       "      <td>False</td>\n",
       "      <td>True</td>\n",
       "      <td>False</td>\n",
       "      <td>False</td>\n",
       "      <td>False</td>\n",
       "      <td>True</td>\n",
       "      <td>0</td>\n",
       "    </tr>\n",
       "    <tr>\n",
       "      <th>2</th>\n",
       "      <td>33</td>\n",
       "      <td>False</td>\n",
       "      <td>True</td>\n",
       "      <td>False</td>\n",
       "      <td>False</td>\n",
       "      <td>False</td>\n",
       "      <td>False</td>\n",
       "      <td>False</td>\n",
       "      <td>False</td>\n",
       "      <td>False</td>\n",
       "      <td>False</td>\n",
       "      <td>False</td>\n",
       "      <td>True</td>\n",
       "      <td>False</td>\n",
       "      <td>0</td>\n",
       "    </tr>\n",
       "    <tr>\n",
       "      <th>3</th>\n",
       "      <td>47</td>\n",
       "      <td>True</td>\n",
       "      <td>False</td>\n",
       "      <td>False</td>\n",
       "      <td>False</td>\n",
       "      <td>False</td>\n",
       "      <td>False</td>\n",
       "      <td>False</td>\n",
       "      <td>False</td>\n",
       "      <td>False</td>\n",
       "      <td>False</td>\n",
       "      <td>False</td>\n",
       "      <td>True</td>\n",
       "      <td>False</td>\n",
       "      <td>0</td>\n",
       "    </tr>\n",
       "    <tr>\n",
       "      <th>4</th>\n",
       "      <td>33</td>\n",
       "      <td>False</td>\n",
       "      <td>False</td>\n",
       "      <td>False</td>\n",
       "      <td>False</td>\n",
       "      <td>False</td>\n",
       "      <td>False</td>\n",
       "      <td>False</td>\n",
       "      <td>False</td>\n",
       "      <td>False</td>\n",
       "      <td>False</td>\n",
       "      <td>True</td>\n",
       "      <td>False</td>\n",
       "      <td>True</td>\n",
       "      <td>0</td>\n",
       "    </tr>\n",
       "  </tbody>\n",
       "</table>\n",
       "</div>"
      ],
      "text/plain": [
       "   age  job_blue-collar  job_entrepreneur  job_housemaid  job_management  \\\n",
       "0   58            False             False          False            True   \n",
       "1   44            False             False          False           False   \n",
       "2   33            False              True          False           False   \n",
       "3   47             True             False          False           False   \n",
       "4   33            False             False          False           False   \n",
       "\n",
       "   job_retired  job_self-employed  job_services  job_student  job_technician  \\\n",
       "0        False              False         False        False           False   \n",
       "1        False              False         False        False            True   \n",
       "2        False              False         False        False           False   \n",
       "3        False              False         False        False           False   \n",
       "4        False              False         False        False           False   \n",
       "\n",
       "   job_unemployed  job_unknown  marital_married  marital_single  \\\n",
       "0           False        False             True           False   \n",
       "1           False        False            False            True   \n",
       "2           False        False             True           False   \n",
       "3           False        False             True           False   \n",
       "4           False         True            False            True   \n",
       "\n",
       "   loan acception  \n",
       "0               0  \n",
       "1               0  \n",
       "2               0  \n",
       "3               0  \n",
       "4               0  "
      ]
     },
     "execution_count": 17,
     "metadata": {},
     "output_type": "execute_result"
    }
   ],
   "source": [
    "#Step 1:Label Encoding\n",
    "from sklearn.preprocessing import LabelEncoder\n",
    "\n",
    "# Encode target\n",
    "df['loan acception'] = df['loan acception'].map({'yes':1, 'no':0})\n",
    "\n",
    "# Encode categorical columns\n",
    "df_encoded = pd.get_dummies(df[['age', 'job', 'marital']], drop_first=True)\n",
    "\n",
    "# Add target\n",
    "df_encoded['loan acception'] = df['loan acception']\n",
    "\n",
    "df_encoded.head()\n"
   ]
  },
  {
   "cell_type": "code",
   "execution_count": 18,
   "id": "f95e97f1-3699-44bd-9a40-68a619dd295e",
   "metadata": {},
   "outputs": [],
   "source": [
    "#Step 2: Train-test split\n",
    "from sklearn.model_selection import train_test_split\n",
    "\n",
    "X = df_encoded.drop('loan acception', axis=1)\n",
    "y = df_encoded['loan acception']\n",
    "\n",
    "X_train, X_test, y_train, y_test = train_test_split(X, y, test_size=0.3, random_state=42)\n"
   ]
  },
  {
   "cell_type": "code",
   "execution_count": 19,
   "id": "fafe9334-b1cb-4823-9936-ed29d916b6b6",
   "metadata": {},
   "outputs": [
    {
     "name": "stdout",
     "output_type": "stream",
     "text": [
      "Training features shape: (31647, 14)\n",
      "Test features shape: (13564, 14)\n"
     ]
    }
   ],
   "source": [
    "#Shape after Splitting\n",
    "print(\"Training features shape:\", X_train.shape)\n",
    "print(\"Test features shape:\", X_test.shape)"
   ]
  },
  {
   "cell_type": "raw",
   "id": "6a00a4c3-c046-4b5e-b3c7-7231975f9882",
   "metadata": {},
   "source": [
    "Train a model (Decision Tree):"
   ]
  },
  {
   "cell_type": "code",
   "execution_count": 20,
   "id": "fdfa2190-b8f7-4b5f-a197-4a41480515dd",
   "metadata": {},
   "outputs": [],
   "source": [
    "from sklearn.tree import DecisionTreeClassifier\n",
    "\n",
    "model = DecisionTreeClassifier(max_depth=5, random_state=42)\n",
    "model.fit(X_train, y_train)\n",
    "\n",
    "y_pred = model.predict(X_test)"
   ]
  },
  {
   "cell_type": "raw",
   "id": "4d3ab02f-56b3-45df-a009-2781f0d388cb",
   "metadata": {},
   "source": [
    "Evaluate with accuracy and confusion matrix:"
   ]
  },
  {
   "cell_type": "code",
   "execution_count": 21,
   "id": "3ed0c2ef-99c0-4cac-80f7-b738c843d19b",
   "metadata": {},
   "outputs": [],
   "source": [
    "from sklearn.metrics import accuracy_score, confusion_matrix, ConfusionMatrixDisplay"
   ]
  },
  {
   "cell_type": "code",
   "execution_count": 22,
   "id": "0499cd4d-2ab2-4478-8322-61a3e23cdb14",
   "metadata": {},
   "outputs": [
    {
     "name": "stdout",
     "output_type": "stream",
     "text": [
      "Accuracy: 88.21%\n"
     ]
    }
   ],
   "source": [
    "# Accuracy\n",
    "acc = accuracy_score(y_test, y_pred)\n",
    "print(f\"Accuracy: {acc * 100:.2f}%\")"
   ]
  },
  {
   "cell_type": "code",
   "execution_count": 23,
   "id": "5a206001-bae7-4fa9-a5b8-bf7f3ebe1eb2",
   "metadata": {},
   "outputs": [
    {
     "data": {
      "image/png": "[encoded data removed]",
      "text/plain": [
       "<Figure size 640x480 with 2 Axes>"
      ]
     },
     "metadata": {},
     "output_type": "display_data"
    }
   ],
   "source": [
    "# Confusion Matrix\n",
    "cm = confusion_matrix(y_test, y_pred)\n",
    "disp = ConfusionMatrixDisplay(confusion_matrix=cm)\n",
    "disp.plot()\n",
    "plt.show()"
   ]
  },
  {
   "cell_type": "raw",
   "id": "70f47fa8-fc0e-4dcb-b1b9-dc4d9c211d36",
   "metadata": {},
   "source": [
    "Conclusion:\n",
    "           The Logistic Regression model achieved an accuracy of 88.21%, which shows that it predicts loan acceptance and rejection quite well for the majority class on unseen test data.\n",
    "From the confusion matrix:\n",
    ".True Positives (3): The model correctly predicted 3 customers who actually accepted the personal loan offer (class 1).\n",
    ".True Negatives (11,962): The model correctly predicted 11,962 customers who did not accept the loan offer (class 0).\n",
    ".False Positives (4): The model incorrectly predicted 4 customers as accepting the loan offer when they actually did not.\n",
    ".False Negatives (1,595): The model failed to predict 1,595 customers who did accept the loan offer but were incorrectly classified as not accepting."
   ]
  },
  {
   "cell_type": "raw",
   "id": "001b2d8c-a587-441d-86d9-3674d1f200df",
   "metadata": {},
   "source": [
    "Analyze Insights:"
   ]
  },
  {
   "cell_type": "code",
   "execution_count": 24,
   "id": "68b00bb3-65d3-4345-89db-745cef691472",
   "metadata": {},
   "outputs": [
    {
     "name": "stdout",
     "output_type": "stream",
     "text": [
      "              Feature  Importance\n",
      "0                 age    0.718447\n",
      "13     marital_single    0.143193\n",
      "1     job_blue-collar    0.047473\n",
      "8         job_student    0.038976\n",
      "4      job_management    0.032938\n",
      "11        job_unknown    0.010336\n",
      "6   job_self-employed    0.008073\n",
      "12    marital_married    0.000564\n",
      "2    job_entrepreneur    0.000000\n",
      "3       job_housemaid    0.000000\n",
      "5         job_retired    0.000000\n",
      "7        job_services    0.000000\n",
      "9      job_technician    0.000000\n",
      "10     job_unemployed    0.000000\n"
     ]
    }
   ],
   "source": [
    "# For Decision Tree, feature importance:\n",
    "importances = pd.DataFrame({\n",
    "    'Feature': X.columns,\n",
    "    'Importance': model.feature_importances_\n",
    "}).sort_values(by='Importance', ascending=False)\n",
    "\n",
    "print(importances)"
   ]
  },
  {
   "cell_type": "code",
   "execution_count": 27,
   "id": "6e0e6806-31f0-404b-854e-60c91d0fb79e",
   "metadata": {},
   "outputs": [
    {
     "data": {
      "image/png": "[encoded data removed]",
      "text/plain": [
       "<Figure size 640x480 with 1 Axes>"
      ]
     },
     "metadata": {},
     "output_type": "display_data"
    }
   ],
   "source": [
    "# Plot feature importances\n",
    "importances_nonzero = importances[importances['Importance'] > 0]\n",
    "\n",
    "sns.barplot(\n",
    "    x='Importance',\n",
    "    y='Feature',\n",
    "    data=importances_nonzero,\n",
    "   \n",
    ")\n",
    "plt.title('Decision Tree Feature Importances')\n",
    "plt.xlabel('Importance')\n",
    "plt.ylabel('Feature')\n",
    "plt.show()\n"
   ]
  },
  {
   "cell_type": "raw",
   "id": "9257f93f-4bf5-4b0d-8be1-3807448be7c6",
   "metadata": {},
   "source": [
    "Final Insight:\n",
    "             Based on the Decision Tree model, the likelihood of accepting a personal loan offer is mainly driven by age, being single, and specific jobs like blue-collar, student, and management roles.\n",
    "This suggests the bank could focus marketing efforts on:\n",
    ".Certain age bands (likely younger or mid-career customers)\n",
    ".Single customers, who may be more open to new financial products.\n",
    ".Blue-collar and student segments, who may need accessible financing.\n",
    ".Management professionals, who might qualify for higher-value loans."
   ]
  }
 ],
 "metadata": {
  "kernelspec": {
   "display_name": "Python 3 (ipykernel)",
   "language": "python",
   "name": "python3"
  },
  "language_info": {
   "codemirror_mode": {
    "name": "ipython",
    "version": 3
   },
   "file_extension": ".py",
   "mimetype": "text/x-python",
   "name": "python",
   "nbconvert_exporter": "python",
   "pygments_lexer": "ipython3",
   "version": "3.13.2"
  }
 },
 "nbformat": 4,
 "nbformat_minor": 5
}
