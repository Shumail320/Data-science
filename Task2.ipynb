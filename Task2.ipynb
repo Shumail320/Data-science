{
 "cells": [
  {
   "cell_type": "raw",
   "id": "15c4cddf-45e3-4efe-8aa3-b3a2f5596b1e",
   "metadata": {},
   "source": [
    "Task 2: Credit Risk Prediction"
   ]
  },
  {
   "cell_type": "raw",
   "id": "f4480d19-7bf8-43e3-8913-2a92e0a2cc14",
   "metadata": {},
   "source": [
    "Introduction:\n",
    "             In the financial sector, lending institutions face significant risk when providing loans to applicants with uncertain repayment capabilities. Identifying whether an applicant is likely to default helps lenders make informed decisions and manage financial risk more effectively.\n",
    "Machine Learning techniques can automate this process by learning patterns from historical loan application data and predicting whether future applicants are likely to repay or default."
   ]
  },
  {
   "cell_type": "raw",
   "id": "2c61dfc1-64c2-4d8b-ae1d-f7a89aff7bcd",
   "metadata": {},
   "source": [
    "Problem Statement:\n",
    "                 The objective of this task is to build a classification model that predicts whether a loan applicant is likely to default on a loan (loan status: approved or rejected) based on various features such as income, loan amount, credit history, and demographic factors.\n",
    "We will:\n",
    "1.Handle missing data appropriately,\n",
    "2.Visualize key factors like Loan Amount, Education, and Applicant Income,\n",
    "3.Train a Logistic Regression and Decision Tree model,\n",
    "4.Evaluate the model using accuracy and a confusion matrix,to determine which approach gives better predictive performance for this credit risk problem."
   ]
  },
  {
   "cell_type": "code",
   "execution_count": 2,
   "id": "3ec94912-76cd-4a29-86ac-38f46b798ef5",
   "metadata": {},
   "outputs": [],
   "source": [
    "#import dataset\n",
    "import pandas as pd\n",
    "df = pd.read_csv(\"D:/New folder/loan_data.csv\")"
   ]
  },
  {
   "cell_type": "raw",
   "id": "6311248d-c135-40fd-9d9e-8ba1935fd5f1",
   "metadata": {},
   "source": [
    "Dataset Structure:"
   ]
  },
  {
   "cell_type": "code",
   "execution_count": 3,
   "id": "ae824ff2-1eb0-4643-9c61-20dae3f91c26",
   "metadata": {},
   "outputs": [
    {
     "name": "stdout",
     "output_type": "stream",
     "text": [
      "(381, 13)\n"
     ]
    }
   ],
   "source": [
    "#Shape of the dataset (rows, columns)\n",
    "print(df.shape)"
   ]
  },
  {
   "cell_type": "code",
   "execution_count": 4,
   "id": "10b87efa-98ed-47f2-a86e-e8202a1fb643",
   "metadata": {},
   "outputs": [
    {
     "name": "stdout",
     "output_type": "stream",
     "text": [
      "\n",
      "Columns:\n",
      " ['Loan_ID', 'Gender', 'Married', 'Dependents', 'Education', 'Self_Employed', 'ApplicantIncome', 'CoapplicantIncome', 'LoanAmount', 'Loan_Amount_Term', 'Credit_History', 'Property_Area', 'Loan_Status']\n"
     ]
    }
   ],
   "source": [
    "#Columns names\n",
    "print(\"\\nColumns:\\n\", df.columns.tolist())"
   ]
  },
  {
   "cell_type": "code",
   "execution_count": 5,
   "id": "e32f494e-7919-46ad-bdbb-3d91d68224e4",
   "metadata": {},
   "outputs": [
    {
     "data": {
      "text/html": [
       "<div>\n",
       "<style scoped>\n",
       "    .dataframe tbody tr th:only-of-type {\n",
       "        vertical-align: middle;\n",
       "    }\n",
       "\n",
       "    .dataframe tbody tr th {\n",
       "        vertical-align: top;\n",
       "    }\n",
       "\n",
       "    .dataframe thead th {\n",
       "        text-align: right;\n",
       "    }\n",
       "</style>\n",
       "<table border=\"1\" class=\"dataframe\">\n",
       "  <thead>\n",
       "    <tr style=\"text-align: right;\">\n",
       "      <th></th>\n",
       "      <th>Loan_ID</th>\n",
       "      <th>Gender</th>\n",
       "      <th>Married</th>\n",
       "      <th>Dependents</th>\n",
       "      <th>Education</th>\n",
       "      <th>Self_Employed</th>\n",
       "      <th>ApplicantIncome</th>\n",
       "      <th>CoapplicantIncome</th>\n",
       "      <th>LoanAmount</th>\n",
       "      <th>Loan_Amount_Term</th>\n",
       "      <th>Credit_History</th>\n",
       "      <th>Property_Area</th>\n",
       "      <th>Loan_Status</th>\n",
       "    </tr>\n",
       "  </thead>\n",
       "  <tbody>\n",
       "    <tr>\n",
       "      <th>0</th>\n",
       "      <td>LP001003</td>\n",
       "      <td>Male</td>\n",
       "      <td>Yes</td>\n",
       "      <td>1</td>\n",
       "      <td>Graduate</td>\n",
       "      <td>No</td>\n",
       "      <td>4583</td>\n",
       "      <td>1508.0</td>\n",
       "      <td>128.0</td>\n",
       "      <td>360.0</td>\n",
       "      <td>1.0</td>\n",
       "      <td>Rural</td>\n",
       "      <td>N</td>\n",
       "    </tr>\n",
       "    <tr>\n",
       "      <th>1</th>\n",
       "      <td>LP001005</td>\n",
       "      <td>Male</td>\n",
       "      <td>Yes</td>\n",
       "      <td>0</td>\n",
       "      <td>Graduate</td>\n",
       "      <td>Yes</td>\n",
       "      <td>3000</td>\n",
       "      <td>0.0</td>\n",
       "      <td>66.0</td>\n",
       "      <td>360.0</td>\n",
       "      <td>1.0</td>\n",
       "      <td>Urban</td>\n",
       "      <td>Y</td>\n",
       "    </tr>\n",
       "    <tr>\n",
       "      <th>2</th>\n",
       "      <td>LP001006</td>\n",
       "      <td>Male</td>\n",
       "      <td>Yes</td>\n",
       "      <td>0</td>\n",
       "      <td>Not Graduate</td>\n",
       "      <td>No</td>\n",
       "      <td>2583</td>\n",
       "      <td>2358.0</td>\n",
       "      <td>120.0</td>\n",
       "      <td>360.0</td>\n",
       "      <td>1.0</td>\n",
       "      <td>Urban</td>\n",
       "      <td>Y</td>\n",
       "    </tr>\n",
       "    <tr>\n",
       "      <th>3</th>\n",
       "      <td>LP001008</td>\n",
       "      <td>Male</td>\n",
       "      <td>No</td>\n",
       "      <td>0</td>\n",
       "      <td>Graduate</td>\n",
       "      <td>No</td>\n",
       "      <td>6000</td>\n",
       "      <td>0.0</td>\n",
       "      <td>141.0</td>\n",
       "      <td>360.0</td>\n",
       "      <td>1.0</td>\n",
       "      <td>Urban</td>\n",
       "      <td>Y</td>\n",
       "    </tr>\n",
       "    <tr>\n",
       "      <th>4</th>\n",
       "      <td>LP001013</td>\n",
       "      <td>Male</td>\n",
       "      <td>Yes</td>\n",
       "      <td>0</td>\n",
       "      <td>Not Graduate</td>\n",
       "      <td>No</td>\n",
       "      <td>2333</td>\n",
       "      <td>1516.0</td>\n",
       "      <td>95.0</td>\n",
       "      <td>360.0</td>\n",
       "      <td>1.0</td>\n",
       "      <td>Urban</td>\n",
       "      <td>Y</td>\n",
       "    </tr>\n",
       "  </tbody>\n",
       "</table>\n",
       "</div>"
      ],
      "text/plain": [
       "    Loan_ID Gender Married Dependents     Education Self_Employed  \\\n",
       "0  LP001003   Male     Yes          1      Graduate            No   \n",
       "1  LP001005   Male     Yes          0      Graduate           Yes   \n",
       "2  LP001006   Male     Yes          0  Not Graduate            No   \n",
       "3  LP001008   Male      No          0      Graduate            No   \n",
       "4  LP001013   Male     Yes          0  Not Graduate            No   \n",
       "\n",
       "   ApplicantIncome  CoapplicantIncome  LoanAmount  Loan_Amount_Term  \\\n",
       "0             4583             1508.0       128.0             360.0   \n",
       "1             3000                0.0        66.0             360.0   \n",
       "2             2583             2358.0       120.0             360.0   \n",
       "3             6000                0.0       141.0             360.0   \n",
       "4             2333             1516.0        95.0             360.0   \n",
       "\n",
       "   Credit_History Property_Area Loan_Status  \n",
       "0             1.0         Rural           N  \n",
       "1             1.0         Urban           Y  \n",
       "2             1.0         Urban           Y  \n",
       "3             1.0         Urban           Y  \n",
       "4             1.0         Urban           Y  "
      ]
     },
     "execution_count": 5,
     "metadata": {},
     "output_type": "execute_result"
    }
   ],
   "source": [
    "#First 5 Rows\n",
    "df.head()"
   ]
  },
  {
   "cell_type": "raw",
   "id": "65af1263-8b53-41f8-89de-38eda26b0b7d",
   "metadata": {},
   "source": [
    "Check For Missing Values:"
   ]
  },
  {
   "cell_type": "code",
   "execution_count": 6,
   "id": "d0457559-1b9c-4889-886c-589daf4b8af8",
   "metadata": {},
   "outputs": [
    {
     "name": "stdout",
     "output_type": "stream",
     "text": [
      "Loan_ID               0\n",
      "Gender                5\n",
      "Married               0\n",
      "Dependents            8\n",
      "Education             0\n",
      "Self_Employed        21\n",
      "ApplicantIncome       0\n",
      "CoapplicantIncome     0\n",
      "LoanAmount            0\n",
      "Loan_Amount_Term     11\n",
      "Credit_History       30\n",
      "Property_Area         0\n",
      "Loan_Status           0\n",
      "dtype: int64\n"
     ]
    }
   ],
   "source": [
    "# Check missing values\n",
    "print(df.isnull().sum())"
   ]
  },
  {
   "cell_type": "raw",
   "id": "23371c47-b253-4c66-8e50-dad3865102bc",
   "metadata": {},
   "source": [
    "Handling Missing Values:"
   ]
  },
  {
   "cell_type": "code",
   "execution_count": 7,
   "id": "d0e5f86e-5dfd-4f54-b08a-a6c023f84f59",
   "metadata": {},
   "outputs": [],
   "source": [
    "# Fill categorical with mode, numerical with median\n",
    "for col in df.columns:\n",
    "    if df[col].dtype == 'object':\n",
    "        df[col] = df[col].fillna(df[col].mode()[0])\n",
    "    else:\n",
    "        df[col] = df[col].fillna(df[col].median())"
   ]
  },
  {
   "cell_type": "code",
   "execution_count": 8,
   "id": "d0557404-022d-4400-b833-7334dd9f9c29",
   "metadata": {},
   "outputs": [
    {
     "name": "stdout",
     "output_type": "stream",
     "text": [
      "Loan_ID              0\n",
      "Gender               0\n",
      "Married              0\n",
      "Dependents           0\n",
      "Education            0\n",
      "Self_Employed        0\n",
      "ApplicantIncome      0\n",
      "CoapplicantIncome    0\n",
      "LoanAmount           0\n",
      "Loan_Amount_Term     0\n",
      "Credit_History       0\n",
      "Property_Area        0\n",
      "Loan_Status          0\n",
      "dtype: int64\n"
     ]
    }
   ],
   "source": [
    "#Verification after handling\n",
    "print(df.isnull().sum())"
   ]
  },
  {
   "cell_type": "raw",
   "id": "ea581085-9d31-419b-89f2-7bd3d7828e3c",
   "metadata": {},
   "source": [
    "Visualization of key features"
   ]
  },
  {
   "cell_type": "code",
   "execution_count": 9,
   "id": "d4c3fb31-8524-41c6-ae49-f0d73bf9e416",
   "metadata": {},
   "outputs": [],
   "source": [
    "import seaborn as sns\n",
    "import matplotlib.pyplot as plt"
   ]
  },
  {
   "cell_type": "code",
   "execution_count": 10,
   "id": "a5f3c87d-56ee-471e-9b39-cc5bf7438444",
   "metadata": {},
   "outputs": [],
   "source": [
    "#Histogram for LoanAmount"
   ]
  },
  {
   "cell_type": "code",
   "execution_count": 11,
   "id": "1f97e8a7-dab6-4188-996b-d89693c0216d",
   "metadata": {},
   "outputs": [
    {
     "data": {
      "image/png": "[encoded data removed]",
      "text/plain": [
       "<Figure size 800x500 with 1 Axes>"
      ]
     },
     "metadata": {},
     "output_type": "display_data"
    }
   ],
   "source": [
    "plt.figure(figsize=(8,5))\n",
    "sns.histplot(df['LoanAmount'], kde=True)\n",
    "plt.title(\"Loan Amount Distribution\")\n",
    "plt.show()"
   ]
  },
  {
   "cell_type": "code",
   "execution_count": 12,
   "id": "f40dfc70-e32f-4ffb-ba7d-0503fc476640",
   "metadata": {},
   "outputs": [],
   "source": [
    "#Countplot for Education vs Loan Status"
   ]
  },
  {
   "cell_type": "code",
   "execution_count": 13,
   "id": "239a92ec-864b-488a-96c0-d908a0ba55bd",
   "metadata": {},
   "outputs": [
    {
     "data": {
      "image/png": "[encoded data removed]",
      "text/plain": [
       "<Figure size 600x400 with 1 Axes>"
      ]
     },
     "metadata": {},
     "output_type": "display_data"
    }
   ],
   "source": [
    "plt.figure(figsize=(6,4))\n",
    "sns.countplot(x='Education', hue='Loan_Status', data=df)\n",
    "plt.title(\"Education vs Loan Status\")\n",
    "plt.show()\n"
   ]
  },
  {
   "cell_type": "code",
   "execution_count": 14,
   "id": "b5333675-c4a0-4e48-a606-28d8a249bb70",
   "metadata": {},
   "outputs": [],
   "source": [
    "#Histogram for Applicant Income"
   ]
  },
  {
   "cell_type": "code",
   "execution_count": 15,
   "id": "59ce28af-30db-4fc0-b5a8-981bfdf360b2",
   "metadata": {},
   "outputs": [
    {
     "data": {
      "image/png": "[encoded data removed]",
      "text/plain": [
       "<Figure size 800x500 with 1 Axes>"
      ]
     },
     "metadata": {},
     "output_type": "display_data"
    }
   ],
   "source": [
    "plt.figure(figsize=(8,5))\n",
    "sns.histplot(df['ApplicantIncome'], kde=True)\n",
    "plt.title(\"Applicant Income Distribution\")\n",
    "plt.show()\n"
   ]
  },
  {
   "cell_type": "raw",
   "id": "64b0eebd-2c2a-4d3e-be64-870b4c16925b",
   "metadata": {},
   "source": [
    "Prepare data for training:"
   ]
  },
  {
   "cell_type": "code",
   "execution_count": 16,
   "id": "c33f7194-43f2-421a-a160-4aa998d2f414",
   "metadata": {},
   "outputs": [],
   "source": [
    "from sklearn.model_selection import train_test_split\n",
    "from sklearn.preprocessing import LabelEncoder"
   ]
  },
  {
   "cell_type": "code",
   "execution_count": 17,
   "id": "92619c0f-e3a5-4e03-a5c9-23a92508f07a",
   "metadata": {},
   "outputs": [],
   "source": [
    "# Step 1: Encode categorical columns\n",
    "le = LabelEncoder()\n",
    "for col in df.columns:\n",
    "    if df[col].dtype == 'object':\n",
    "        df[col] = le.fit_transform(df[col])\n"
   ]
  },
  {
   "cell_type": "code",
   "execution_count": 18,
   "id": "36960f40-f091-4657-b692-2e17f0d00ebd",
   "metadata": {},
   "outputs": [],
   "source": [
    "# Step 2: Split into features & target\n",
    "X = df.drop('Loan_Status', axis=1)  # Features \n",
    "y = df['Loan_Status']               # Target"
   ]
  },
  {
   "cell_type": "code",
   "execution_count": 19,
   "id": "ffd715da-fdbe-4527-bc79-409f1bfb7409",
   "metadata": {},
   "outputs": [],
   "source": [
    "#Step 3: Train-test split\n",
    "X_train, X_test, y_train, y_test = train_test_split(\n",
    "    X, y,\n",
    "    test_size=0.2,      # 20% test, 80% train\n",
    "    random_state=42     # For reproducibility\n",
    ")"
   ]
  },
  {
   "cell_type": "code",
   "execution_count": 20,
   "id": "f1a22920-413a-4069-a143-c6be826ed1bc",
   "metadata": {},
   "outputs": [
    {
     "name": "stdout",
     "output_type": "stream",
     "text": [
      "Training features shape: (304, 12)\n",
      "Test features shape: (77, 12)\n"
     ]
    }
   ],
   "source": [
    "#Shape after Splitting\n",
    "print(\"Training features shape:\", X_train.shape)\n",
    "print(\"Test features shape:\", X_test.shape)"
   ]
  },
  {
   "cell_type": "raw",
   "id": "3e4d7006-4f2c-4ffd-aa55-3587dd2126b2",
   "metadata": {},
   "source": [
    "Train a model (Logistic Regression):"
   ]
  },
  {
   "cell_type": "code",
   "execution_count": 21,
   "id": "16cc2124-6f06-49f9-9e36-ed86881abb4b",
   "metadata": {},
   "outputs": [],
   "source": [
    "from sklearn.linear_model import LogisticRegression\n",
    "\n",
    "model = LogisticRegression(max_iter=5000)\n",
    "model.fit(X_train, y_train)\n",
    "\n",
    "# Predict\n",
    "y_pred = model.predict(X_test)\n"
   ]
  },
  {
   "cell_type": "raw",
   "id": "05d3e3eb-bdb5-4a82-9d5a-2c3445c33fd3",
   "metadata": {},
   "source": [
    "Evaluate with accuracy and confusion matrix:"
   ]
  },
  {
   "cell_type": "code",
   "execution_count": null,
   "id": "779c99b5-aee1-4b26-a7e4-59ba2c384776",
   "metadata": {},
   "outputs": [],
   "source": [
    "from sklearn.metrics import accuracy_score, confusion_matrix, ConfusionMatrixDisplay"
   ]
  },
  {
   "cell_type": "code",
   "execution_count": 22,
   "id": "3b7923bf-d742-45c9-83da-35b40e9b4245",
   "metadata": {},
   "outputs": [
    {
     "name": "stdout",
     "output_type": "stream",
     "text": [
      "Accuracy: 81.82%\n"
     ]
    }
   ],
   "source": [
    "# Accuracy\n",
    "acc = accuracy_score(y_test, y_pred)\n",
    "print(f\"Accuracy: {acc * 100:.2f}%\")"
   ]
  },
  {
   "cell_type": "code",
   "execution_count": 23,
   "id": "ee2ece3a-e481-4c06-99f0-8357343968f8",
   "metadata": {},
   "outputs": [
    {
     "data": {
      "image/png": "[encoded data removed]",
      "text/plain": [
       "<Figure size 640x480 with 2 Axes>"
      ]
     },
     "metadata": {},
     "output_type": "display_data"
    }
   ],
   "source": [
    "# Confusion Matrix\n",
    "cm = confusion_matrix(y_test, y_pred)\n",
    "disp = ConfusionMatrixDisplay(confusion_matrix=cm)\n",
    "disp.plot()\n",
    "plt.show()"
   ]
  },
  {
   "cell_type": "raw",
   "id": "4bdc78e2-a1bf-42e1-bb0f-fb39a1392a5e",
   "metadata": {},
   "source": [
    "Conclusion:\n",
    "          The Logistic Regression model achieved an accuracy of 81.82%, which indicates that it predicts loan approvals and rejections reasonably well on unseen test data.\n",
    "From the confusion matrix:\n",
    ".True Positives (56): The model correctly predicted 56 applicants who did not default (class 1).\n",
    ".True Negatives (7): The model correctly predicted 7 applicants who would default (class 0).\n",
    ".False Positives (14): The model incorrectly predicted 14 applicants as not defaulting when they actually would default.\n",
    ".False Negatives (0): There were no cases where the model predicted default when the applicant would not default."
   ]
  }
 ],
 "metadata": {
  "kernelspec": {
   "display_name": "Python 3 (ipykernel)",
   "language": "python",
   "name": "python3"
  },
  "language_info": {
   "codemirror_mode": {
    "name": "ipython",
    "version": 3
   },
   "file_extension": ".py",
   "mimetype": "text/x-python",
   "name": "python",
   "nbconvert_exporter": "python",
   "pygments_lexer": "ipython3",
   "version": "3.13.2"
  }
 },
 "nbformat": 4,
 "nbformat_minor": 5
}
